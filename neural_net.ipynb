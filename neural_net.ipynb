{
  "nbformat": 4,
  "nbformat_minor": 0,
  "metadata": {
    "colab": {
      "provenance": []
    },
    "kernelspec": {
      "name": "python3",
      "display_name": "Python 3"
    },
    "language_info": {
      "name": "python"
    }
  },
  "cells": [
    {
      "cell_type": "code",
      "source": [
        "# load data set\n",
        "\n",
        "# create training data sets\n",
        "\n",
        "# feed the training data to my model\n",
        "\n",
        "# evaluation function on training data\n",
        "\n",
        "# score it against global data set"
      ],
      "metadata": {
        "id": "Q9h3tQ86KrMf"
      },
      "execution_count": null,
      "outputs": []
    },
    {
      "cell_type": "code",
      "source": [
        "import math"
      ],
      "metadata": {
        "id": "ptccM9p5hUj3"
      },
      "execution_count": 23,
      "outputs": []
    },
    {
      "cell_type": "code",
      "source": [
        "### Function to evaluate performance\n",
        "def calc_squared_error(y_hat, y):\n",
        "  return (y_hat-y)**2\n",
        "\n",
        "def dumb_evalutor(y_hat, y):\n",
        "  count = 0\n",
        "  for i in range(y_hat):\n",
        "    if y_hat[i] == y[i]:\n",
        "      count +=1\n",
        "  return count / len(y_hat)\n"
      ],
      "metadata": {
        "id": "fgrqhaZrMHHj"
      },
      "execution_count": null,
      "outputs": []
    },
    {
      "cell_type": "code",
      "source": [
        "class Perceptron:\n",
        "    def __init__(self, weights, inputs):\n",
        "        self.weights = weights\n",
        "        self.inputs = inputs\n",
        "    def think(self):\n",
        "        total = sum([self.weight*self.input for self.weight, self.input in zip(self.weights, self.inputs)])\n",
        "        return apply_sigmoid_function(total)\n"
      ],
      "metadata": {
        "id": "9GZXFHh5VMtT"
      },
      "execution_count": null,
      "outputs": []
    },
    {
      "cell_type": "code",
      "source": [
        "### Coinflip model\n",
        "\n",
        "# Declare number of hidden layers\n",
        "hidden_layers = 2\n",
        "# Declare number of perceptions per layer\n",
        "### Play around with this number - does having less than output matter?\n",
        "perceptrons_per_layer = 100\n",
        "\n",
        "### Helper initialisation functions\n",
        "def initialise_perceptron_layers():\n",
        "    perceptron_array_2d = []\n",
        "    for i in range(hidden_layers):\n",
        "        perceptron_array = []\n",
        "        for j in range(perceptrons_per_layer):\n",
        "            perceptron_array.append(Perceptron())\n",
        "        perceptron_array_2d.append(perceptron_array)\n",
        "    return perceptron_array_2d\n",
        "\n",
        "def character_classifier_model(df_x, y):\n",
        "    perceptron_array = initialise_perceptron_layers()\n",
        "    return perceptron_array\n",
        "\n",
        "### Helper visualisation functions\n",
        "def print_all_weights(perceptron_array_2d):\n",
        "    for perceptron_array in perceptron_array_2d:\n",
        "        for j in perceptron_array:\n",
        "            print(j.weight, end='')\n",
        "        print(\"\\n\", end='')\n",
        "\n",
        "### Helper math functions\n",
        "def apply_sigmoid_function(x):\n",
        "  return 1 / (1 + math.exp(-x))\n",
        "\n",
        "print_all_weights(character_classifier_model(1, 2))\n"
      ],
      "metadata": {
        "id": "Vjyr1H0uPJix",
        "colab": {
          "base_uri": "https://localhost:8080/"
        },
        "outputId": "aa4f5a54-b50a-4411-923d-77e0d927ab94"
      },
      "execution_count": null,
      "outputs": [
        {
          "output_type": "stream",
          "name": "stdout",
          "text": [
            "1111111111111111111111111111111111111111111111111111111111111111111111111111111111111111111111111111\n",
            "1111111111111111111111111111111111111111111111111111111111111111111111111111111111111111111111111111\n"
          ]
        }
      ]
    },
    {
      "cell_type": "code",
      "source": [],
      "metadata": {
        "id": "Hd2m_Y9QXf9G"
      },
      "execution_count": null,
      "outputs": []
    }
  ]
}